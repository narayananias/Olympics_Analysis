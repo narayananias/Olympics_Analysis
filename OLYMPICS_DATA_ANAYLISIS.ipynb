{
  "nbformat": 4,
  "nbformat_minor": 0,
  "metadata": {
    "colab": {
      "name": "OLYMPICS DATA ANAYLISIS.ipynb",
      "provenance": []
    },
    "kernelspec": {
      "name": "python3",
      "display_name": "Python 3"
    },
    "language_info": {
      "name": "python"
    }
  },
  "cells": [
    {
      "cell_type": "markdown",
      "metadata": {
        "id": "dSdWq80YrVgI"
      },
      "source": [
        "#**SUMMER OLYMPICS ASSIGNMENT**"
      ]
    },
    {
      "cell_type": "code",
      "metadata": {
        "id": "nSfBzxpcrjvM"
      },
      "source": [
        "import pandas as pd "
      ],
      "execution_count": 117,
      "outputs": []
    },
    {
      "cell_type": "code",
      "metadata": {
        "id": "0YFRN2UEr_na"
      },
      "source": [
        "df=pd.read_csv('Records1.csv')"
      ],
      "execution_count": 118,
      "outputs": []
    },
    {
      "cell_type": "markdown",
      "metadata": {
        "id": "oQTTdp4wtP--"
      },
      "source": [
        "### **1. In how many cities Summer Olympics is held so far?**"
      ]
    },
    {
      "cell_type": "code",
      "metadata": {
        "id": "Ig3hX_ZetYDL"
      },
      "source": [
        "ae=df['City'].unique()"
      ],
      "execution_count": 119,
      "outputs": []
    },
    {
      "cell_type": "code",
      "metadata": {
        "colab": {
          "base_uri": "https://localhost:8080/"
        },
        "id": "ICNMgALHtg61",
        "outputId": "103d5303-1770-47c3-e262-4355802ec5db"
      },
      "source": [
        "print(ae)"
      ],
      "execution_count": 120,
      "outputs": [
        {
          "output_type": "stream",
          "name": "stdout",
          "text": [
            "['Athens' 'Paris' 'St Louis' 'London' 'Stockholm' 'Antwerp' 'Amsterdam'\n",
            " 'Los Angeles' 'Berlin' 'Helsinki' 'Melbourne / Stockholm' 'Rome' 'Tokyo'\n",
            " 'Mexico' 'Munich' 'Montreal' 'Moscow' 'Seoul' 'Barcelona' 'Atlanta'\n",
            " 'Sydney' 'Beijing']\n"
          ]
        }
      ]
    },
    {
      "cell_type": "code",
      "metadata": {
        "colab": {
          "base_uri": "https://localhost:8080/"
        },
        "id": "RVfa9BW6t3bg",
        "outputId": "e49a45ce-7b9e-4c01-ed2c-9a43b3e40eae"
      },
      "source": [
        "type(ae)"
      ],
      "execution_count": 121,
      "outputs": [
        {
          "output_type": "execute_result",
          "data": {
            "text/plain": [
              "numpy.ndarray"
            ]
          },
          "metadata": {},
          "execution_count": 121
        }
      ]
    },
    {
      "cell_type": "code",
      "metadata": {
        "colab": {
          "base_uri": "https://localhost:8080/"
        },
        "id": "DvGBldiMtzO4",
        "outputId": "d92da278-6bb5-439a-a8cd-9595c7f84109"
      },
      "source": [
        "len(ae)"
      ],
      "execution_count": 122,
      "outputs": [
        {
          "output_type": "execute_result",
          "data": {
            "text/plain": [
              "22"
            ]
          },
          "metadata": {},
          "execution_count": 122
        }
      ]
    },
    {
      "cell_type": "markdown",
      "metadata": {
        "id": "v7NRxtIXuHTp"
      },
      "source": [
        "###Answer=22"
      ]
    },
    {
      "cell_type": "markdown",
      "metadata": {
        "id": "YLFHMEzjudIk"
      },
      "source": [
        "### **2. Which sport is having most number of Gold Medals so far? (Top 5)**"
      ]
    },
    {
      "cell_type": "code",
      "metadata": {
        "id": "gok2_q8xuptD"
      },
      "source": [
        "Ggames=df[(df.Medal=='Gold')]"
      ],
      "execution_count": 123,
      "outputs": []
    },
    {
      "cell_type": "code",
      "metadata": {
        "colab": {
          "base_uri": "https://localhost:8080/"
        },
        "id": "gZx7JoBmv2mx",
        "outputId": "40e161ba-f3bd-436d-f3af-5b910b56ea82"
      },
      "source": [
        "print(len(Ggames))"
      ],
      "execution_count": 124,
      "outputs": [
        {
          "output_type": "stream",
          "name": "stdout",
          "text": [
            "10486\n"
          ]
        }
      ]
    },
    {
      "cell_type": "code",
      "metadata": {
        "colab": {
          "base_uri": "https://localhost:8080/"
        },
        "id": "oi2Yd7OFv9i_",
        "outputId": "7ffe2b00-9782-4149-ca56-18ab4379aef6"
      },
      "source": [
        "print(Ggames.head())"
      ],
      "execution_count": 125,
      "outputs": [
        {
          "output_type": "stream",
          "name": "stdout",
          "text": [
            "    Year    City      Sport  ... Gender                       Event Medal\n",
            "0   1896  Athens   Aquatics  ...    Men              100M Freestyle  Gold\n",
            "3   1896  Athens   Aquatics  ...    Men  100M Freestyle For Sailors  Gold\n",
            "6   1896  Athens   Aquatics  ...    Men             1200M Freestyle  Gold\n",
            "9   1896  Athens   Aquatics  ...    Men              400M Freestyle  Gold\n",
            "13  1896  Athens  Athletics  ...    Men                        100M  Gold\n",
            "\n",
            "[5 rows x 9 columns]\n"
          ]
        }
      ]
    },
    {
      "cell_type": "code",
      "metadata": {
        "id": "kC2S61mXwE7F"
      },
      "source": [
        "data=[]\n",
        "for sport in Ggames['Sport'].unique():\n",
        "  data.append([sport,len(Ggames[Ggames['Sport']==sport])])\n",
        "data=pd.DataFrame(data,columns=['SPORT','GOLD MEDALS COUNT'])\n",
        "data=data.sort_values(by='GOLD MEDALS COUNT',ascending=False).head()"
      ],
      "execution_count": 126,
      "outputs": []
    },
    {
      "cell_type": "code",
      "metadata": {
        "colab": {
          "base_uri": "https://localhost:8080/"
        },
        "id": "dqOgXraHx668",
        "outputId": "f581c7b7-0b4d-4822-95fa-61ee8495ebbf"
      },
      "source": [
        "print(data)"
      ],
      "execution_count": 127,
      "outputs": [
        {
          "output_type": "stream",
          "name": "stdout",
          "text": [
            "         SPORT  GOLD MEDALS COUNT\n",
            "0     Aquatics               1421\n",
            "1    Athletics               1215\n",
            "17      Rowing                890\n",
            "4   Gymnastics                820\n",
            "3      Fencing                552\n"
          ]
        }
      ]
    },
    {
      "cell_type": "code",
      "metadata": {
        "colab": {
          "base_uri": "https://localhost:8080/",
          "height": 361
        },
        "id": "cs6ajnuUyIy0",
        "outputId": "80099711-dce0-4eb5-876a-4180cf6ae480"
      },
      "source": [
        "data.plot(title='TOP 5 GOLD MEDAL GAMES',x='SPORT',y='GOLD MEDALS COUNT',kind='bar',color='Navy')"
      ],
      "execution_count": 128,
      "outputs": [
        {
          "output_type": "execute_result",
          "data": {
            "text/plain": [
              "<matplotlib.axes._subplots.AxesSubplot at 0x7f72ffedee50>"
            ]
          },
          "metadata": {},
          "execution_count": 128
        },
        {
          "output_type": "display_data",
          "data": {
            "image/png": "[encoded data removed]",
            "text/plain": [
              "<Figure size 432x288 with 1 Axes>"
            ]
          },
          "metadata": {
            "needs_background": "light"
          }
        }
      ]
    },
    {
      "cell_type": "markdown",
      "metadata": {
        "id": "n5yPupKV76NC"
      },
      "source": [
        "### **3. Which sport is having most number of medals so far? (Top 5)**"
      ]
    },
    {
      "cell_type": "code",
      "metadata": {
        "id": "zFoWEcCW8BwO"
      },
      "source": [
        "data=[]\n",
        "for sport in df['Sport'].unique():\n",
        "    data.append([sport,len(df[df['Sport']==sport])])\n",
        "data=pd.DataFrame(data, columns=['Sport','No. of medals']) \n",
        "data=data.sort_values(by='No. of medals', ascending=False).head()"
      ],
      "execution_count": 129,
      "outputs": []
    },
    {
      "cell_type": "code",
      "metadata": {
        "colab": {
          "base_uri": "https://localhost:8080/"
        },
        "id": "McdacMzh8J4E",
        "outputId": "25efcd80-ae66-40e7-f7d5-6b998edb6a58"
      },
      "source": [
        "print(data)"
      ],
      "execution_count": 130,
      "outputs": [
        {
          "output_type": "stream",
          "name": "stdout",
          "text": [
            "         Sport  No. of medals\n",
            "0     Aquatics           4170\n",
            "1    Athletics           3638\n",
            "17      Rowing           2667\n",
            "4   Gymnastics           2307\n",
            "3      Fencing           1613\n"
          ]
        }
      ]
    },
    {
      "cell_type": "code",
      "metadata": {
        "colab": {
          "base_uri": "https://localhost:8080/",
          "height": 361
        },
        "id": "1OZSPu4I9ru4",
        "outputId": "4ea925f0-d857-4b9d-c1e8-9c2525a2289a"
      },
      "source": [
        "data.plot(title='MOST NO.OF MEDALS SPORTS',x='Sport',y='No. of medals',kind='bar',color='turquoise')"
      ],
      "execution_count": 131,
      "outputs": [
        {
          "output_type": "execute_result",
          "data": {
            "text/plain": [
              "<matplotlib.axes._subplots.AxesSubplot at 0x7f72ff4d0c10>"
            ]
          },
          "metadata": {},
          "execution_count": 131
        },
        {
          "output_type": "display_data",
          "data": {
            "image/png": "[encoded data removed]",
            "text/plain": [
              "<Figure size 432x288 with 1 Axes>"
            ]
          },
          "metadata": {
            "needs_background": "light"
          }
        }
      ]
    },
    {
      "cell_type": "markdown",
      "metadata": {
        "id": "Hd8gMLV5-G7l"
      },
      "source": [
        "\n",
        "### **4. Which player has won most number of medals? (Top 5)**"
      ]
    },
    {
      "cell_type": "code",
      "metadata": {
        "id": "kzCeBH38-Lsj"
      },
      "source": [
        "data=[]\n",
        "for sport in df['Athlete'].unique():\n",
        "    data.append([sport,len(df[df['Athlete']==sport])])\n",
        "data=pd.DataFrame(data, columns=['Athlete','No. of medals']) \n",
        "data=data.sort_values(by='No. of medals', ascending=False).head()"
      ],
      "execution_count": 132,
      "outputs": []
    },
    {
      "cell_type": "code",
      "metadata": {
        "colab": {
          "base_uri": "https://localhost:8080/"
        },
        "id": "kY2nszQf-T3L",
        "outputId": "8381e96a-3a74-453d-996f-11fc6291f18f"
      },
      "source": [
        "print(data)"
      ],
      "execution_count": 133,
      "outputs": [
        {
          "output_type": "stream",
          "name": "stdout",
          "text": [
            "                    Athlete  No. of medals\n",
            "18640       PHELPS, Michael             22\n",
            "7197       LATYNINA, Larisa             18\n",
            "9948     ANDRIANOV, Nikolay             15\n",
            "6591           ONO, Takashi             13\n",
            "5103   MANGIAROTTI, Edoardo             13\n"
          ]
        }
      ]
    },
    {
      "cell_type": "code",
      "metadata": {
        "colab": {
          "base_uri": "https://localhost:8080/",
          "height": 420
        },
        "id": "etPYeK7B_o-8",
        "outputId": "515e871b-66c0-4f2d-95d0-a831c7de8350"
      },
      "source": [
        "data.plot(title='TOP PLAYERS',x='Athlete',y='No. of medals',kind='bar',color='Forestgreen')"
      ],
      "execution_count": 134,
      "outputs": [
        {
          "output_type": "execute_result",
          "data": {
            "text/plain": [
              "<matplotlib.axes._subplots.AxesSubplot at 0x7f72ff3eb0d0>"
            ]
          },
          "metadata": {},
          "execution_count": 134
        },
        {
          "output_type": "display_data",
          "data": {
            "image/png": "[encoded data removed]",
            "text/plain": [
              "<Figure size 432x288 with 1 Axes>"
            ]
          },
          "metadata": {
            "needs_background": "light"
          }
        }
      ]
    },
    {
      "cell_type": "markdown",
      "metadata": {
        "id": "LPYZ5P0rBiJW"
      },
      "source": [
        "### **5. Which player has won most number Gold Medals of medals? (Top 5)**"
      ]
    },
    {
      "cell_type": "code",
      "metadata": {
        "id": "lM3kddzyARDG"
      },
      "source": [
        "Ggames=df[(df.Medal=='Gold')]"
      ],
      "execution_count": 135,
      "outputs": []
    },
    {
      "cell_type": "code",
      "metadata": {
        "colab": {
          "base_uri": "https://localhost:8080/",
          "height": 204
        },
        "id": "21hNzff3Bu9t",
        "outputId": "c521a6b0-df56-4290-ba68-92bc00c5ab8e"
      },
      "source": [
        "Ggames.head()"
      ],
      "execution_count": 136,
      "outputs": [
        {
          "output_type": "execute_result",
          "data": {
            "text/html": [
              "<div>\n",
              "<style scoped>\n",
              "    .dataframe tbody tr th:only-of-type {\n",
              "        vertical-align: middle;\n",
              "    }\n",
              "\n",
              "    .dataframe tbody tr th {\n",
              "        vertical-align: top;\n",
              "    }\n",
              "\n",
              "    .dataframe thead th {\n",
              "        text-align: right;\n",
              "    }\n",
              "</style>\n",
              "<table border=\"1\" class=\"dataframe\">\n",
              "  <thead>\n",
              "    <tr style=\"text-align: right;\">\n",
              "      <th></th>\n",
              "      <th>Year</th>\n",
              "      <th>City</th>\n",
              "      <th>Sport</th>\n",
              "      <th>Discipline</th>\n",
              "      <th>Athlete</th>\n",
              "      <th>Country</th>\n",
              "      <th>Gender</th>\n",
              "      <th>Event</th>\n",
              "      <th>Medal</th>\n",
              "    </tr>\n",
              "  </thead>\n",
              "  <tbody>\n",
              "    <tr>\n",
              "      <th>0</th>\n",
              "      <td>1896</td>\n",
              "      <td>Athens</td>\n",
              "      <td>Aquatics</td>\n",
              "      <td>Swimming</td>\n",
              "      <td>HAJOS, Alfred</td>\n",
              "      <td>HUN</td>\n",
              "      <td>Men</td>\n",
              "      <td>100M Freestyle</td>\n",
              "      <td>Gold</td>\n",
              "    </tr>\n",
              "    <tr>\n",
              "      <th>3</th>\n",
              "      <td>1896</td>\n",
              "      <td>Athens</td>\n",
              "      <td>Aquatics</td>\n",
              "      <td>Swimming</td>\n",
              "      <td>MALOKINIS, Ioannis</td>\n",
              "      <td>GRE</td>\n",
              "      <td>Men</td>\n",
              "      <td>100M Freestyle For Sailors</td>\n",
              "      <td>Gold</td>\n",
              "    </tr>\n",
              "    <tr>\n",
              "      <th>6</th>\n",
              "      <td>1896</td>\n",
              "      <td>Athens</td>\n",
              "      <td>Aquatics</td>\n",
              "      <td>Swimming</td>\n",
              "      <td>HAJOS, Alfred</td>\n",
              "      <td>HUN</td>\n",
              "      <td>Men</td>\n",
              "      <td>1200M Freestyle</td>\n",
              "      <td>Gold</td>\n",
              "    </tr>\n",
              "    <tr>\n",
              "      <th>9</th>\n",
              "      <td>1896</td>\n",
              "      <td>Athens</td>\n",
              "      <td>Aquatics</td>\n",
              "      <td>Swimming</td>\n",
              "      <td>NEUMANN, Paul</td>\n",
              "      <td>AUT</td>\n",
              "      <td>Men</td>\n",
              "      <td>400M Freestyle</td>\n",
              "      <td>Gold</td>\n",
              "    </tr>\n",
              "    <tr>\n",
              "      <th>13</th>\n",
              "      <td>1896</td>\n",
              "      <td>Athens</td>\n",
              "      <td>Athletics</td>\n",
              "      <td>Athletics</td>\n",
              "      <td>BURKE, Thomas</td>\n",
              "      <td>USA</td>\n",
              "      <td>Men</td>\n",
              "      <td>100M</td>\n",
              "      <td>Gold</td>\n",
              "    </tr>\n",
              "  </tbody>\n",
              "</table>\n",
              "</div>"
            ],
            "text/plain": [
              "    Year    City      Sport  ... Gender                       Event Medal\n",
              "0   1896  Athens   Aquatics  ...    Men              100M Freestyle  Gold\n",
              "3   1896  Athens   Aquatics  ...    Men  100M Freestyle For Sailors  Gold\n",
              "6   1896  Athens   Aquatics  ...    Men             1200M Freestyle  Gold\n",
              "9   1896  Athens   Aquatics  ...    Men              400M Freestyle  Gold\n",
              "13  1896  Athens  Athletics  ...    Men                        100M  Gold\n",
              "\n",
              "[5 rows x 9 columns]"
            ]
          },
          "metadata": {},
          "execution_count": 136
        }
      ]
    },
    {
      "cell_type": "code",
      "metadata": {
        "id": "w3sEgfpwB0Cx"
      },
      "source": [
        "data=[]\n",
        "for sport in Ggames['Athlete'].unique():\n",
        "    data.append([sport,len(Ggames[Ggames['Athlete']==sport])])\n",
        "data=pd.DataFrame(data, columns=['Athlete','No. of gold medals']) \n",
        "data=data.sort_values(by='No. of gold medals', ascending=False).head()"
      ],
      "execution_count": 137,
      "outputs": []
    },
    {
      "cell_type": "code",
      "metadata": {
        "colab": {
          "base_uri": "https://localhost:8080/"
        },
        "id": "P0fNnGRVCLbA",
        "outputId": "aa89cbf4-59bf-41c4-c6bf-29ac71f8bf45"
      },
      "source": [
        "print(data)"
      ],
      "execution_count": 138,
      "outputs": [
        {
          "output_type": "stream",
          "name": "stdout",
          "text": [
            "               Athlete  No. of gold medals\n",
            "6851   PHELPS, Michael                  18\n",
            "3320       SPITZ, Mark                   9\n",
            "2714  LATYNINA, Larisa                   9\n",
            "4630       LEWIS, Carl                   9\n",
            "907       NURMI, Paavo                   9\n"
          ]
        }
      ]
    },
    {
      "cell_type": "code",
      "metadata": {
        "colab": {
          "base_uri": "https://localhost:8080/",
          "height": 387
        },
        "id": "BVW4azkAJcfw",
        "outputId": "6c3582f8-92b1-4d0b-feac-b408fec41778"
      },
      "source": [
        "data.plot(title='TOP PLAYERS',x='Athlete',y='No. of gold medals',kind='bar',color='FIREBRICK')"
      ],
      "execution_count": 139,
      "outputs": [
        {
          "output_type": "execute_result",
          "data": {
            "text/plain": [
              "<matplotlib.axes._subplots.AxesSubplot at 0x7f72ff1c4d10>"
            ]
          },
          "metadata": {},
          "execution_count": 139
        },
        {
          "output_type": "display_data",
          "data": {
            "image/png": "[encoded data removed]",
            "text/plain": [
              "<Figure size 432x288 with 1 Axes>"
            ]
          },
          "metadata": {
            "needs_background": "light"
          }
        }
      ]
    },
    {
      "cell_type": "markdown",
      "metadata": {
        "id": "Fn5y5DFhClbt"
      },
      "source": [
        "### **6. In which year India won first Gold Medal in Summer Olympics?**"
      ]
    },
    {
      "cell_type": "code",
      "metadata": {
        "colab": {
          "base_uri": "https://localhost:8080/",
          "height": 80
        },
        "id": "FV-QqMwtCpCd",
        "outputId": "42db3896-90f8-4383-ce78-c203c7740a61"
      },
      "source": [
        "Indiangmedal=df[(df.Country==\"IND\") & (df.Medal==\"Gold\")]\n",
        "Indiangmedal.head(1)"
      ],
      "execution_count": 140,
      "outputs": [
        {
          "output_type": "execute_result",
          "data": {
            "text/html": [
              "<div>\n",
              "<style scoped>\n",
              "    .dataframe tbody tr th:only-of-type {\n",
              "        vertical-align: middle;\n",
              "    }\n",
              "\n",
              "    .dataframe tbody tr th {\n",
              "        vertical-align: top;\n",
              "    }\n",
              "\n",
              "    .dataframe thead th {\n",
              "        text-align: right;\n",
              "    }\n",
              "</style>\n",
              "<table border=\"1\" class=\"dataframe\">\n",
              "  <thead>\n",
              "    <tr style=\"text-align: right;\">\n",
              "      <th></th>\n",
              "      <th>Year</th>\n",
              "      <th>City</th>\n",
              "      <th>Sport</th>\n",
              "      <th>Discipline</th>\n",
              "      <th>Athlete</th>\n",
              "      <th>Country</th>\n",
              "      <th>Gender</th>\n",
              "      <th>Event</th>\n",
              "      <th>Medal</th>\n",
              "    </tr>\n",
              "  </thead>\n",
              "  <tbody>\n",
              "    <tr>\n",
              "      <th>5512</th>\n",
              "      <td>1928</td>\n",
              "      <td>Amsterdam</td>\n",
              "      <td>Hockey</td>\n",
              "      <td>Hockey</td>\n",
              "      <td>ALLEN, Richard James</td>\n",
              "      <td>IND</td>\n",
              "      <td>Men</td>\n",
              "      <td>Hockey</td>\n",
              "      <td>Gold</td>\n",
              "    </tr>\n",
              "  </tbody>\n",
              "</table>\n",
              "</div>"
            ],
            "text/plain": [
              "      Year       City   Sport Discipline  ... Country Gender   Event Medal\n",
              "5512  1928  Amsterdam  Hockey     Hockey  ...     IND    Men  Hockey  Gold\n",
              "\n",
              "[1 rows x 9 columns]"
            ]
          },
          "metadata": {},
          "execution_count": 140
        }
      ]
    },
    {
      "cell_type": "markdown",
      "metadata": {
        "id": "A4WpqV0XDrto"
      },
      "source": [
        "### **7. Which event is most popular in terms on number of players? (Top 5)**"
      ]
    },
    {
      "cell_type": "code",
      "metadata": {
        "id": "I_TKdKNfDwDw"
      },
      "source": [
        "data7=[]\n",
        "for sport in df['Event'].unique():\n",
        "    data7.append([sport,len(df[df['Event']==sport])])\n",
        "data7=pd.DataFrame(data7, columns=['Event','No. of players']) \n",
        "data7=data7.sort_values(by='No. of players', ascending=False).head()"
      ],
      "execution_count": 141,
      "outputs": []
    },
    {
      "cell_type": "code",
      "metadata": {
        "colab": {
          "base_uri": "https://localhost:8080/"
        },
        "id": "YtWZ3S7xGqj6",
        "outputId": "48d5639f-b204-4cbc-d3ea-6e6447ab4e6d"
      },
      "source": [
        "print(data7)"
      ],
      "execution_count": 142,
      "outputs": [
        {
          "output_type": "stream",
          "name": "stdout",
          "text": [
            "                Event  No. of players\n",
            "80           Football            1497\n",
            "176            Hockey            1422\n",
            "138  Team Competition            1147\n",
            "327        Basketball            1012\n",
            "337          Handball             973\n"
          ]
        }
      ]
    },
    {
      "cell_type": "code",
      "metadata": {
        "colab": {
          "base_uri": "https://localhost:8080/",
          "height": 392
        },
        "id": "Yt5MhTcNGtMI",
        "outputId": "a02d1388-769b-4209-ad17-067cca10559f"
      },
      "source": [
        "data7.plot(title='POPULAR GAMES',x='Event',y='No. of players',kind='bar',color='teal')"
      ],
      "execution_count": 143,
      "outputs": [
        {
          "output_type": "execute_result",
          "data": {
            "text/plain": [
              "<matplotlib.axes._subplots.AxesSubplot at 0x7f730047dd90>"
            ]
          },
          "metadata": {},
          "execution_count": 143
        },
        {
          "output_type": "display_data",
          "data": {
            "image/png": "[encoded data removed]",
            "text/plain": [
              "<Figure size 432x288 with 1 Axes>"
            ]
          },
          "metadata": {
            "needs_background": "light"
          }
        }
      ]
    },
    {
      "cell_type": "markdown",
      "metadata": {
        "id": "x3IpCr-gHoBv"
      },
      "source": [
        "\n",
        "### **8. Which sport is having most female Gold Medalists? (Top 5**"
      ]
    },
    {
      "cell_type": "code",
      "metadata": {
        "id": "Z_mRvZRcHrXR"
      },
      "source": [
        "feply = df[(df.Gender == 'Women') & (df.Medal == 'Gold')]\n",
        "data8=[]\n",
        "for sport in feply['Sport'].unique():\n",
        "    data8.append([sport,len(feply[feply['Sport']==sport])])\n",
        "data8=pd.DataFrame(data8, columns=['Sport','No. of female gold medalists']) \n",
        "data8=data8.sort_values(by='No. of female gold medalists', ascending=False).head()"
      ],
      "execution_count": 144,
      "outputs": []
    },
    {
      "cell_type": "code",
      "metadata": {
        "colab": {
          "base_uri": "https://localhost:8080/"
        },
        "id": "eCgdXZ1CH5LJ",
        "outputId": "3a595148-5b07-423c-8a35-55ae25321dc7"
      },
      "source": [
        "print(len(feply))"
      ],
      "execution_count": 145,
      "outputs": [
        {
          "output_type": "stream",
          "name": "stdout",
          "text": [
            "2788\n"
          ]
        }
      ]
    },
    {
      "cell_type": "code",
      "metadata": {
        "colab": {
          "base_uri": "https://localhost:8080/"
        },
        "id": "y7G6WuRYIDXs",
        "outputId": "14ef4fce-3b60-45ef-c929-d3c77b8bd6dd"
      },
      "source": [
        "print(data8)"
      ],
      "execution_count": 146,
      "outputs": [
        {
          "output_type": "stream",
          "name": "stdout",
          "text": [
            "         Sport  No. of female gold medalists\n",
            "4     Aquatics                           589\n",
            "7    Athletics                           389\n",
            "8   Gymnastics                           268\n",
            "14      Rowing                           217\n",
            "11  Volleyball                           166\n"
          ]
        }
      ]
    },
    {
      "cell_type": "code",
      "metadata": {
        "colab": {
          "base_uri": "https://localhost:8080/",
          "height": 361
        },
        "id": "go_ej5IrIMOQ",
        "outputId": "d327fa40-3d37-4151-b904-ac4729a58517"
      },
      "source": [
        "data8.plot(title='FEMALE GOLD MEDALIST SPORT',x='Sport',y='No. of female gold medalists',kind='bar',color='Coral')"
      ],
      "execution_count": 147,
      "outputs": [
        {
          "output_type": "execute_result",
          "data": {
            "text/plain": [
              "<matplotlib.axes._subplots.AxesSubplot at 0x7f72ff359990>"
            ]
          },
          "metadata": {},
          "execution_count": 147
        },
        {
          "output_type": "display_data",
          "data": {
            "image/png": "[encoded data removed]",
            "text/plain": [
              "<Figure size 432x288 with 1 Axes>"
            ]
          },
          "metadata": {
            "needs_background": "light"
          }
        }
      ]
    }
  ]
}